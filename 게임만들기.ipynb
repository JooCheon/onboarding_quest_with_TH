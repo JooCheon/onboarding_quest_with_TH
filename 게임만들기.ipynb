{
  "nbformat": 4,
  "nbformat_minor": 0,
  "metadata": {
    "colab": {
      "provenance": []
    },
    "kernelspec": {
      "name": "python3",
      "display_name": "Python 3"
    },
    "language_info": {
      "name": "python"
    }
  },
  "cells": [
    {
      "cell_type": "code",
      "execution_count": null,
      "metadata": {
        "id": "NY1IjKhDVG6H"
      },
      "outputs": [],
      "source": [
        "# 점수 산출 함수\n",
        "def get_score(map_):\n",
        "    point_table = [0,1,3,5,7,9,11,15,20,25,30,35,40,50,60,70,85,100,150,300]\n",
        "    counts = [1]\n",
        "    count = 1\n",
        "    total_score = 0\n",
        "    for i in range(19):\n",
        "        if map_[i] <= map_[i+1]: # 증가\n",
        "            counts.append(count)\n",
        "        else: # 작다\n",
        "            count += 1\n",
        "            counts.append(count)\n",
        "\n",
        "    for i in range(1,count+1):\n",
        "        a = counts.count(i)\n",
        "        b = point_table[a-1]\n",
        "        print(a, b)\n",
        "        total_score += b\n",
        "\n",
        "    return total_score # total_score\n",
        "# get_score(map_)\n",
        "\n",
        "# 최후의 보루\n",
        "map_ = [\"_\" for i in range(20)]\n",
        "for i in range(20):\n",
        "    num = int(input())\n",
        "    map_[i] = num\n",
        "\n",
        "    print(*map_, sep= \"|\" )\n",
        "print(\"최종점수는 : \" ,get_score(map_))"
      ]
    }
  ]
}